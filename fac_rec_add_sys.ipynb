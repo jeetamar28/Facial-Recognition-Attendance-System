{
 "cells": [
  {
   "cell_type": "code",
   "execution_count": null,
   "metadata": {},
   "outputs": [],
   "source": [
    "import face_recognition\n",
    "import cv2\n",
    "import numpy as np\n",
    "import csv\n",
    "import os\n",
    "from datetime import datetime\n",
    "from tkinter import *\n",
    "from tkinter import messagebox\n"
   ]
  },
  {
   "cell_type": "code",
   "execution_count": null,
   "metadata": {},
   "outputs": [],
   "source": [
    "video_capture = cv2.VideoCapture(0)\n",
    "\n",
    "known_faces = {\n",
    "    \"JAY\": face_recognition.face_encodings(face_recognition.load_image_file(\"JAY.jpg\"))[0],\n",
    "    \"AMAN\": face_recognition.face_encodings(face_recognition.load_image_file(\"AMAN.jpg\"))[0],\n",
    "    \"AYUSHI\": face_recognition.face_encodings(face_recognition.load_image_file(\"AYUSHI.jpg\"))[0],\n",
    "    \"SANAYA\": face_recognition.face_encodings(face_recognition.load_image_file(\"SANAYA.jpg\"))[0]\n",
    "}\n",
    "\n",
    "known_face_encodings = list(known_faces.values())\n",
    "known_face_names = list(known_faces.keys())\n",
    "\n",
    "students = known_face_names.copy()"
   ]
  },
  {
   "cell_type": "code",
   "execution_count": null,
   "metadata": {},
   "outputs": [],
   "source": [
    "face_locations = []\n",
    "face_encodings = []\n",
    "face_names = []\n",
    "s = True\n",
    "\n",
    "now = datetime.now()\n",
    "current_date = now.strftime(\"%Y-%m-%d\")\n",
    "\n",
    "with open(current_date + '.csv', 'w+', newline='') as f:\n",
    "    lnwriter = csv.writer(f)"
   ]
  },
  {
   "cell_type": "code",
   "execution_count": null,
   "metadata": {},
   "outputs": [],
   "source": [
    "def start_recognition():\n",
    "    global s\n",
    "    s = True\n",
    "\n",
    "def stop_recognition():\n",
    "    global s\n",
    "    s = False\n",
    "\n",
    "root = Tk()\n",
    "root.title(\"Facial Recognition Attendance System\")\n",
    "\n",
    "start_button = Button(root, text=\"Start\", command=start_recognition)\n",
    "start_button.pack(pady=10)\n",
    "\n",
    "stop_button = Button(root, text=\"Stop\", command=stop_recognition)\n",
    "stop_button.pack(pady=10)\n",
    "\n",
    "root.geometry(\"300x200\")"
   ]
  },
  {
   "cell_type": "code",
   "execution_count": null,
   "metadata": {},
   "outputs": [],
   "source": [
    "while True:\n",
    "    _, frame = video_capture.read()\n",
    "    small_frame = cv2.resize(frame, (0, 0), fx=0.25, fy=0.25)\n",
    "    rgb_small_frame = small_frame[:, :, ::-1]\n",
    "\n",
    "    if s:\n",
    "        face_locations = face_recognition.face_locations(rgb_small_frame)\n",
    "        face_encodings = face_recognition.face_encodings(rgb_small_frame, face_locations)\n",
    "        face_names = []\n",
    "        \n",
    "        for face_encoding in face_encodings:\n",
    "            matches = face_recognition.compare_faces(known_face_encodings, face_encoding)\n",
    "            name = \"\"\n",
    "            face_distances = face_recognition.face_distance(known_face_encodings, face_encoding)\n",
    "            best_match_index = np.argmin(face_distances)\n",
    "            if matches[best_match_index]:\n",
    "                name = known_face_names[best_match_index]\n",
    "            face_names.append(name)\n",
    "            \n",
    "            if name in known_face_names:\n",
    "                font = cv2.FONT_HERSHEY_SIMPLEX\n",
    "                cv2.putText(frame, name + ' Present', (10, 100), font, 1.5, (255, 0, 0), 3, 2)\n",
    "\n",
    "                if name in students:\n",
    "                    students.remove(name)\n",
    "                    current_time = now.strftime(\"%H-%M-%S\")\n",
    "                    lnwriter.writerow([name, current_time])\n",
    "\n",
    "    cv2.imshow(\"Attendance System\", frame)\n",
    "\n",
    "    if cv2.waitKey(1) & 0xFF == ord('q'):\n",
    "        break\n",
    "\n",
    "video_capture.release()\n",
    "cv2.destroyAllWindows()"
   ]
  },
  {
   "cell_type": "code",
   "execution_count": null,
   "metadata": {},
   "outputs": [],
   "source": [
    "root.mainloop()"
   ]
  }
 ],
 "metadata": {
  "kernelspec": {
   "display_name": "Python 3",
   "language": "python",
   "name": "python3"
  },
  "language_info": {
   "codemirror_mode": {
    "name": "ipython",
    "version": 3
   },
   "file_extension": ".py",
   "mimetype": "text/x-python",
   "name": "python",
   "nbconvert_exporter": "python",
   "pygments_lexer": "ipython3",
   "version": "3.10.4"
  }
 },
 "nbformat": 4,
 "nbformat_minor": 2
}
